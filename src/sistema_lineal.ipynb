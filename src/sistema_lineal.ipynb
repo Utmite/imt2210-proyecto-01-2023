{
 "cells": [
  {
   "cell_type": "code",
   "execution_count": 2,
   "metadata": {},
   "outputs": [],
   "source": [
    "import pandas as pd\n",
    "import numpy as np"
   ]
  },
  {
   "cell_type": "markdown",
   "metadata": {},
   "source": [
    "### Paso A"
   ]
  },
  {
   "cell_type": "code",
   "execution_count": 3,
   "metadata": {},
   "outputs": [],
   "source": [
    "\n",
    "#Cargando los datos\n",
    "costos_producion_df = pd.read_csv(\"db/Costos_producción.csv\")\n",
    "recursos_df = pd.read_csv(\"db/Recursos.csv\")\n"
   ]
  },
  {
   "cell_type": "code",
   "execution_count": 4,
   "metadata": {},
   "outputs": [
    {
     "data": {
      "text/html": [
       "<div>\n",
       "<style scoped>\n",
       "    .dataframe tbody tr th:only-of-type {\n",
       "        vertical-align: middle;\n",
       "    }\n",
       "\n",
       "    .dataframe tbody tr th {\n",
       "        vertical-align: top;\n",
       "    }\n",
       "\n",
       "    .dataframe thead th {\n",
       "        text-align: right;\n",
       "    }\n",
       "</style>\n",
       "<table border=\"1\" class=\"dataframe\">\n",
       "  <thead>\n",
       "    <tr style=\"text-align: right;\">\n",
       "      <th></th>\n",
       "      <th>Unnamed: 0</th>\n",
       "      <th>Producto</th>\n",
       "      <th>Costo de producción</th>\n",
       "    </tr>\n",
       "  </thead>\n",
       "  <tbody>\n",
       "    <tr>\n",
       "      <th>0</th>\n",
       "      <td>0</td>\n",
       "      <td>18</td>\n",
       "      <td>1676480</td>\n",
       "    </tr>\n",
       "    <tr>\n",
       "      <th>1</th>\n",
       "      <td>1</td>\n",
       "      <td>13</td>\n",
       "      <td>1635176</td>\n",
       "    </tr>\n",
       "    <tr>\n",
       "      <th>2</th>\n",
       "      <td>2</td>\n",
       "      <td>4</td>\n",
       "      <td>1764282</td>\n",
       "    </tr>\n",
       "    <tr>\n",
       "      <th>3</th>\n",
       "      <td>3</td>\n",
       "      <td>10</td>\n",
       "      <td>1695162</td>\n",
       "    </tr>\n",
       "    <tr>\n",
       "      <th>4</th>\n",
       "      <td>4</td>\n",
       "      <td>27</td>\n",
       "      <td>1804233</td>\n",
       "    </tr>\n",
       "  </tbody>\n",
       "</table>\n",
       "</div>"
      ],
      "text/plain": [
       "   Unnamed: 0  Producto  Costo de producción\n",
       "0           0        18              1676480\n",
       "1           1        13              1635176\n",
       "2           2         4              1764282\n",
       "3           3        10              1695162\n",
       "4           4        27              1804233"
      ]
     },
     "execution_count": 4,
     "metadata": {},
     "output_type": "execute_result"
    }
   ],
   "source": [
    "#Muetro los datos de costos\n",
    "costos_producion_df.head()"
   ]
  },
  {
   "cell_type": "code",
   "execution_count": 5,
   "metadata": {},
   "outputs": [
    {
     "data": {
      "text/html": [
       "<div>\n",
       "<style scoped>\n",
       "    .dataframe tbody tr th:only-of-type {\n",
       "        vertical-align: middle;\n",
       "    }\n",
       "\n",
       "    .dataframe tbody tr th {\n",
       "        vertical-align: top;\n",
       "    }\n",
       "\n",
       "    .dataframe thead th {\n",
       "        text-align: right;\n",
       "    }\n",
       "</style>\n",
       "<table border=\"1\" class=\"dataframe\">\n",
       "  <thead>\n",
       "    <tr style=\"text-align: right;\">\n",
       "      <th></th>\n",
       "      <th>Unnamed: 0</th>\n",
       "      <th>Tipo de recurso</th>\n",
       "      <th>Cantidad</th>\n",
       "      <th>Producto</th>\n",
       "    </tr>\n",
       "  </thead>\n",
       "  <tbody>\n",
       "    <tr>\n",
       "      <th>0</th>\n",
       "      <td>0</td>\n",
       "      <td>32</td>\n",
       "      <td>50</td>\n",
       "      <td>36</td>\n",
       "    </tr>\n",
       "    <tr>\n",
       "      <th>1</th>\n",
       "      <td>1</td>\n",
       "      <td>40</td>\n",
       "      <td>76</td>\n",
       "      <td>32</td>\n",
       "    </tr>\n",
       "    <tr>\n",
       "      <th>2</th>\n",
       "      <td>2</td>\n",
       "      <td>49</td>\n",
       "      <td>68</td>\n",
       "      <td>47</td>\n",
       "    </tr>\n",
       "    <tr>\n",
       "      <th>3</th>\n",
       "      <td>3</td>\n",
       "      <td>6</td>\n",
       "      <td>70</td>\n",
       "      <td>10</td>\n",
       "    </tr>\n",
       "    <tr>\n",
       "      <th>4</th>\n",
       "      <td>4</td>\n",
       "      <td>20</td>\n",
       "      <td>68</td>\n",
       "      <td>32</td>\n",
       "    </tr>\n",
       "  </tbody>\n",
       "</table>\n",
       "</div>"
      ],
      "text/plain": [
       "   Unnamed: 0  Tipo de recurso  Cantidad  Producto\n",
       "0           0               32        50        36\n",
       "1           1               40        76        32\n",
       "2           2               49        68        47\n",
       "3           3                6        70        10\n",
       "4           4               20        68        32"
      ]
     },
     "execution_count": 5,
     "metadata": {},
     "output_type": "execute_result"
    }
   ],
   "source": [
    "#muestro los datos de recursos\n",
    "recursos_df.head()"
   ]
  },
  {
   "cell_type": "code",
   "execution_count": 6,
   "metadata": {},
   "outputs": [
    {
     "data": {
      "text/html": [
       "<div>\n",
       "<style scoped>\n",
       "    .dataframe tbody tr th:only-of-type {\n",
       "        vertical-align: middle;\n",
       "    }\n",
       "\n",
       "    .dataframe tbody tr th {\n",
       "        vertical-align: top;\n",
       "    }\n",
       "\n",
       "    .dataframe thead th {\n",
       "        text-align: right;\n",
       "    }\n",
       "</style>\n",
       "<table border=\"1\" class=\"dataframe\">\n",
       "  <thead>\n",
       "    <tr style=\"text-align: right;\">\n",
       "      <th></th>\n",
       "      <th>Unnamed: 0</th>\n",
       "      <th>Tipo de recurso</th>\n",
       "      <th>Cantidad</th>\n",
       "      <th>Producto</th>\n",
       "    </tr>\n",
       "  </thead>\n",
       "  <tbody>\n",
       "    <tr>\n",
       "      <th>0</th>\n",
       "      <td>0</td>\n",
       "      <td>32</td>\n",
       "      <td>50</td>\n",
       "      <td>36</td>\n",
       "    </tr>\n",
       "    <tr>\n",
       "      <th>28</th>\n",
       "      <td>28</td>\n",
       "      <td>29</td>\n",
       "      <td>68</td>\n",
       "      <td>36</td>\n",
       "    </tr>\n",
       "    <tr>\n",
       "      <th>117</th>\n",
       "      <td>117</td>\n",
       "      <td>36</td>\n",
       "      <td>57</td>\n",
       "      <td>36</td>\n",
       "    </tr>\n",
       "    <tr>\n",
       "      <th>137</th>\n",
       "      <td>137</td>\n",
       "      <td>23</td>\n",
       "      <td>78</td>\n",
       "      <td>36</td>\n",
       "    </tr>\n",
       "    <tr>\n",
       "      <th>190</th>\n",
       "      <td>190</td>\n",
       "      <td>48</td>\n",
       "      <td>68</td>\n",
       "      <td>36</td>\n",
       "    </tr>\n",
       "    <tr>\n",
       "      <th>244</th>\n",
       "      <td>244</td>\n",
       "      <td>38</td>\n",
       "      <td>75</td>\n",
       "      <td>36</td>\n",
       "    </tr>\n",
       "    <tr>\n",
       "      <th>359</th>\n",
       "      <td>359</td>\n",
       "      <td>28</td>\n",
       "      <td>49</td>\n",
       "      <td>36</td>\n",
       "    </tr>\n",
       "    <tr>\n",
       "      <th>436</th>\n",
       "      <td>436</td>\n",
       "      <td>45</td>\n",
       "      <td>43</td>\n",
       "      <td>36</td>\n",
       "    </tr>\n",
       "    <tr>\n",
       "      <th>470</th>\n",
       "      <td>470</td>\n",
       "      <td>12</td>\n",
       "      <td>73</td>\n",
       "      <td>36</td>\n",
       "    </tr>\n",
       "    <tr>\n",
       "      <th>520</th>\n",
       "      <td>520</td>\n",
       "      <td>10</td>\n",
       "      <td>50</td>\n",
       "      <td>36</td>\n",
       "    </tr>\n",
       "    <tr>\n",
       "      <th>559</th>\n",
       "      <td>559</td>\n",
       "      <td>24</td>\n",
       "      <td>48</td>\n",
       "      <td>36</td>\n",
       "    </tr>\n",
       "    <tr>\n",
       "      <th>560</th>\n",
       "      <td>560</td>\n",
       "      <td>34</td>\n",
       "      <td>76</td>\n",
       "      <td>36</td>\n",
       "    </tr>\n",
       "    <tr>\n",
       "      <th>706</th>\n",
       "      <td>706</td>\n",
       "      <td>1</td>\n",
       "      <td>74</td>\n",
       "      <td>36</td>\n",
       "    </tr>\n",
       "    <tr>\n",
       "      <th>843</th>\n",
       "      <td>843</td>\n",
       "      <td>6</td>\n",
       "      <td>76</td>\n",
       "      <td>36</td>\n",
       "    </tr>\n",
       "    <tr>\n",
       "      <th>989</th>\n",
       "      <td>989</td>\n",
       "      <td>42</td>\n",
       "      <td>74</td>\n",
       "      <td>36</td>\n",
       "    </tr>\n",
       "    <tr>\n",
       "      <th>1149</th>\n",
       "      <td>1149</td>\n",
       "      <td>22</td>\n",
       "      <td>70</td>\n",
       "      <td>36</td>\n",
       "    </tr>\n",
       "    <tr>\n",
       "      <th>1152</th>\n",
       "      <td>1152</td>\n",
       "      <td>41</td>\n",
       "      <td>45</td>\n",
       "      <td>36</td>\n",
       "    </tr>\n",
       "    <tr>\n",
       "      <th>1195</th>\n",
       "      <td>1195</td>\n",
       "      <td>46</td>\n",
       "      <td>48</td>\n",
       "      <td>36</td>\n",
       "    </tr>\n",
       "    <tr>\n",
       "      <th>1263</th>\n",
       "      <td>1263</td>\n",
       "      <td>37</td>\n",
       "      <td>79</td>\n",
       "      <td>36</td>\n",
       "    </tr>\n",
       "    <tr>\n",
       "      <th>1328</th>\n",
       "      <td>1328</td>\n",
       "      <td>33</td>\n",
       "      <td>77</td>\n",
       "      <td>36</td>\n",
       "    </tr>\n",
       "    <tr>\n",
       "      <th>1343</th>\n",
       "      <td>1343</td>\n",
       "      <td>25</td>\n",
       "      <td>51</td>\n",
       "      <td>36</td>\n",
       "    </tr>\n",
       "    <tr>\n",
       "      <th>1352</th>\n",
       "      <td>1352</td>\n",
       "      <td>40</td>\n",
       "      <td>48</td>\n",
       "      <td>36</td>\n",
       "    </tr>\n",
       "    <tr>\n",
       "      <th>1399</th>\n",
       "      <td>1399</td>\n",
       "      <td>9</td>\n",
       "      <td>43</td>\n",
       "      <td>36</td>\n",
       "    </tr>\n",
       "    <tr>\n",
       "      <th>1474</th>\n",
       "      <td>1474</td>\n",
       "      <td>2</td>\n",
       "      <td>64</td>\n",
       "      <td>36</td>\n",
       "    </tr>\n",
       "    <tr>\n",
       "      <th>1493</th>\n",
       "      <td>1493</td>\n",
       "      <td>13</td>\n",
       "      <td>65</td>\n",
       "      <td>36</td>\n",
       "    </tr>\n",
       "    <tr>\n",
       "      <th>1520</th>\n",
       "      <td>1520</td>\n",
       "      <td>39</td>\n",
       "      <td>64</td>\n",
       "      <td>36</td>\n",
       "    </tr>\n",
       "    <tr>\n",
       "      <th>1527</th>\n",
       "      <td>1527</td>\n",
       "      <td>50</td>\n",
       "      <td>45</td>\n",
       "      <td>36</td>\n",
       "    </tr>\n",
       "    <tr>\n",
       "      <th>1534</th>\n",
       "      <td>1534</td>\n",
       "      <td>4</td>\n",
       "      <td>59</td>\n",
       "      <td>36</td>\n",
       "    </tr>\n",
       "    <tr>\n",
       "      <th>1559</th>\n",
       "      <td>1559</td>\n",
       "      <td>15</td>\n",
       "      <td>48</td>\n",
       "      <td>36</td>\n",
       "    </tr>\n",
       "    <tr>\n",
       "      <th>1575</th>\n",
       "      <td>1575</td>\n",
       "      <td>14</td>\n",
       "      <td>60</td>\n",
       "      <td>36</td>\n",
       "    </tr>\n",
       "    <tr>\n",
       "      <th>1646</th>\n",
       "      <td>1646</td>\n",
       "      <td>44</td>\n",
       "      <td>62</td>\n",
       "      <td>36</td>\n",
       "    </tr>\n",
       "    <tr>\n",
       "      <th>1750</th>\n",
       "      <td>1750</td>\n",
       "      <td>7</td>\n",
       "      <td>79</td>\n",
       "      <td>36</td>\n",
       "    </tr>\n",
       "    <tr>\n",
       "      <th>1790</th>\n",
       "      <td>1790</td>\n",
       "      <td>16</td>\n",
       "      <td>79</td>\n",
       "      <td>36</td>\n",
       "    </tr>\n",
       "    <tr>\n",
       "      <th>1811</th>\n",
       "      <td>1811</td>\n",
       "      <td>11</td>\n",
       "      <td>60</td>\n",
       "      <td>36</td>\n",
       "    </tr>\n",
       "    <tr>\n",
       "      <th>1882</th>\n",
       "      <td>1882</td>\n",
       "      <td>3</td>\n",
       "      <td>67</td>\n",
       "      <td>36</td>\n",
       "    </tr>\n",
       "    <tr>\n",
       "      <th>1888</th>\n",
       "      <td>1888</td>\n",
       "      <td>49</td>\n",
       "      <td>60</td>\n",
       "      <td>36</td>\n",
       "    </tr>\n",
       "    <tr>\n",
       "      <th>1897</th>\n",
       "      <td>1897</td>\n",
       "      <td>31</td>\n",
       "      <td>62</td>\n",
       "      <td>36</td>\n",
       "    </tr>\n",
       "    <tr>\n",
       "      <th>1960</th>\n",
       "      <td>1960</td>\n",
       "      <td>19</td>\n",
       "      <td>41</td>\n",
       "      <td>36</td>\n",
       "    </tr>\n",
       "    <tr>\n",
       "      <th>1969</th>\n",
       "      <td>1969</td>\n",
       "      <td>5</td>\n",
       "      <td>44</td>\n",
       "      <td>36</td>\n",
       "    </tr>\n",
       "    <tr>\n",
       "      <th>2005</th>\n",
       "      <td>2005</td>\n",
       "      <td>17</td>\n",
       "      <td>43</td>\n",
       "      <td>36</td>\n",
       "    </tr>\n",
       "    <tr>\n",
       "      <th>2014</th>\n",
       "      <td>2014</td>\n",
       "      <td>47</td>\n",
       "      <td>48</td>\n",
       "      <td>36</td>\n",
       "    </tr>\n",
       "    <tr>\n",
       "      <th>2078</th>\n",
       "      <td>2078</td>\n",
       "      <td>30</td>\n",
       "      <td>78</td>\n",
       "      <td>36</td>\n",
       "    </tr>\n",
       "    <tr>\n",
       "      <th>2117</th>\n",
       "      <td>2117</td>\n",
       "      <td>8</td>\n",
       "      <td>55</td>\n",
       "      <td>36</td>\n",
       "    </tr>\n",
       "    <tr>\n",
       "      <th>2139</th>\n",
       "      <td>2139</td>\n",
       "      <td>21</td>\n",
       "      <td>69</td>\n",
       "      <td>36</td>\n",
       "    </tr>\n",
       "    <tr>\n",
       "      <th>2168</th>\n",
       "      <td>2168</td>\n",
       "      <td>35</td>\n",
       "      <td>55</td>\n",
       "      <td>36</td>\n",
       "    </tr>\n",
       "    <tr>\n",
       "      <th>2329</th>\n",
       "      <td>2329</td>\n",
       "      <td>27</td>\n",
       "      <td>71</td>\n",
       "      <td>36</td>\n",
       "    </tr>\n",
       "    <tr>\n",
       "      <th>2368</th>\n",
       "      <td>2368</td>\n",
       "      <td>20</td>\n",
       "      <td>57</td>\n",
       "      <td>36</td>\n",
       "    </tr>\n",
       "    <tr>\n",
       "      <th>2397</th>\n",
       "      <td>2397</td>\n",
       "      <td>43</td>\n",
       "      <td>61</td>\n",
       "      <td>36</td>\n",
       "    </tr>\n",
       "    <tr>\n",
       "      <th>2427</th>\n",
       "      <td>2427</td>\n",
       "      <td>18</td>\n",
       "      <td>67</td>\n",
       "      <td>36</td>\n",
       "    </tr>\n",
       "    <tr>\n",
       "      <th>2470</th>\n",
       "      <td>2470</td>\n",
       "      <td>26</td>\n",
       "      <td>45</td>\n",
       "      <td>36</td>\n",
       "    </tr>\n",
       "  </tbody>\n",
       "</table>\n",
       "</div>"
      ],
      "text/plain": [
       "      Unnamed: 0  Tipo de recurso  Cantidad  Producto\n",
       "0              0               32        50        36\n",
       "28            28               29        68        36\n",
       "117          117               36        57        36\n",
       "137          137               23        78        36\n",
       "190          190               48        68        36\n",
       "244          244               38        75        36\n",
       "359          359               28        49        36\n",
       "436          436               45        43        36\n",
       "470          470               12        73        36\n",
       "520          520               10        50        36\n",
       "559          559               24        48        36\n",
       "560          560               34        76        36\n",
       "706          706                1        74        36\n",
       "843          843                6        76        36\n",
       "989          989               42        74        36\n",
       "1149        1149               22        70        36\n",
       "1152        1152               41        45        36\n",
       "1195        1195               46        48        36\n",
       "1263        1263               37        79        36\n",
       "1328        1328               33        77        36\n",
       "1343        1343               25        51        36\n",
       "1352        1352               40        48        36\n",
       "1399        1399                9        43        36\n",
       "1474        1474                2        64        36\n",
       "1493        1493               13        65        36\n",
       "1520        1520               39        64        36\n",
       "1527        1527               50        45        36\n",
       "1534        1534                4        59        36\n",
       "1559        1559               15        48        36\n",
       "1575        1575               14        60        36\n",
       "1646        1646               44        62        36\n",
       "1750        1750                7        79        36\n",
       "1790        1790               16        79        36\n",
       "1811        1811               11        60        36\n",
       "1882        1882                3        67        36\n",
       "1888        1888               49        60        36\n",
       "1897        1897               31        62        36\n",
       "1960        1960               19        41        36\n",
       "1969        1969                5        44        36\n",
       "2005        2005               17        43        36\n",
       "2014        2014               47        48        36\n",
       "2078        2078               30        78        36\n",
       "2117        2117                8        55        36\n",
       "2139        2139               21        69        36\n",
       "2168        2168               35        55        36\n",
       "2329        2329               27        71        36\n",
       "2368        2368               20        57        36\n",
       "2397        2397               43        61        36\n",
       "2427        2427               18        67        36\n",
       "2470        2470               26        45        36"
      ]
     },
     "execution_count": 6,
     "metadata": {},
     "output_type": "execute_result"
    }
   ],
   "source": [
    "#Veo como se compone un producto para entender como se relaciona esto\n",
    "#Como grupo llegamos a la conclusion que si expresamos cada producto como un vector, el domineo seria los tipos recursos y cada coficiente seria la cantidad de ese recurso\n",
    "#Por lo cual el valor de cada tipo recurso seria vector * x = costo del producto\n",
    "recursos_df[recursos_df[\"Producto\"] == 36]"
   ]
  },
  {
   "cell_type": "markdown",
   "metadata": {},
   "source": [
    "### Paso B"
   ]
  },
  {
   "cell_type": "code",
   "execution_count": 44,
   "metadata": {},
   "outputs": [
    {
     "data": {
      "text/plain": [
       "array([[0, 0, 0, ..., 0, 0, 0],\n",
       "       [0, 0, 0, ..., 0, 0, 0],\n",
       "       [0, 0, 0, ..., 0, 0, 0],\n",
       "       ...,\n",
       "       [0, 0, 0, ..., 0, 0, 0],\n",
       "       [0, 0, 0, ..., 0, 0, 0],\n",
       "       [0, 0, 0, ..., 0, 0, 0]])"
      ]
     },
     "execution_count": 44,
     "metadata": {},
     "output_type": "execute_result"
    }
   ],
   "source": [
    "#Cargo los productos para el i y la j con el tipo recurso\n",
    "#Se utiliza la función unique , ya que un mismo producto puede utilzar disntintos tipos de recursos. Por ende habrá una repetición y esta función permite esclarecer la totalidad sin considerar lo anterior\n",
    "#El unique utilizado sobre el tipo de recurso, permite identificar en unicidad los tipos existentes, debido a que pueden haber productos que usen el mismo tipo de recurso en su producción y saldrían repetidos. \n",
    "i = np.sort(np.array(recursos_df[\"Producto\"].unique()))\n",
    "j = np.sort(np.array(recursos_df[\"Tipo de recurso\"].unique()))\n",
    "\n",
    "matriz_A = np.zeros((len(i), len(i)), dtype=\"int\")\n",
    "matriz_A"
   ]
  },
  {
   "cell_type": "markdown",
   "metadata": {},
   "source": [
    "La matrix en i son los productos y la j o sea las columnas son los tipo recursos, pues asi es un matrix cuadrada"
   ]
  },
  {
   "cell_type": "code",
   "execution_count": 46,
   "metadata": {},
   "outputs": [
    {
     "data": {
      "text/plain": [
       "array([ 1,  2,  3,  4,  5,  6,  7,  8,  9, 10, 11, 12, 13, 14, 15, 16, 17,\n",
       "       18, 19, 20, 21, 22, 23, 24, 25, 26, 27, 28, 29, 30, 31, 32, 33, 34,\n",
       "       35, 36, 37, 38, 39, 40, 41, 42, 43, 44, 45, 46, 47, 48, 49, 50])"
      ]
     },
     "execution_count": 46,
     "metadata": {},
     "output_type": "execute_result"
    }
   ],
   "source": [
    "j"
   ]
  },
  {
   "cell_type": "code",
   "execution_count": 47,
   "metadata": {},
   "outputs": [],
   "source": [
    "for _, fila in recursos_df.iterrows():\n",
    "    p = fila[\"Producto\"]\n",
    "    c = fila[\"Tipo de recurso\"]\n",
    "    x = np.where(i == p)\n",
    "    y = np.where(j == c)\n",
    "    matriz_A[x, y] = fila[\"Cantidad\"]"
   ]
  },
  {
   "cell_type": "code",
   "execution_count": 48,
   "metadata": {},
   "outputs": [
    {
     "data": {
      "text/plain": [
       "array([[60, 54, 76, ..., 51, 70, 73],\n",
       "       [41, 60, 45, ..., 50, 75, 45],\n",
       "       [55, 50, 72, ..., 64, 72, 78],\n",
       "       ...,\n",
       "       [50, 69, 69, ..., 41, 64, 72],\n",
       "       [66, 52, 77, ..., 61, 50, 49],\n",
       "       [61, 43, 48, ..., 58, 78, 60]])"
      ]
     },
     "execution_count": 48,
     "metadata": {},
     "output_type": "execute_result"
    }
   ],
   "source": [
    "matriz_A"
   ]
  },
  {
   "cell_type": "markdown",
   "metadata": {},
   "source": [
    "### Paso C"
   ]
  },
  {
   "cell_type": "code",
   "execution_count": 54,
   "metadata": {},
   "outputs": [],
   "source": [
    "#Como las filas (i) son numero de producto, debemos ordenar los costos para que valor concida con el producto en la fila de la matriz\n",
    "costos_producion_df = costos_producion_df.sort_values(by=\"Producto\")\n"
   ]
  },
  {
   "cell_type": "markdown",
   "metadata": {},
   "source": [
    "### Pregunta D"
   ]
  },
  {
   "cell_type": "code",
   "execution_count": 55,
   "metadata": {},
   "outputs": [
    {
     "data": {
      "text/plain": [
       "array([1752625, 1719304, 1837615, 1764282, 1742108, 1792307, 1759963,\n",
       "       1780502, 1808398, 1695162, 1779912, 1778551, 1635176, 1793300,\n",
       "       1832280, 1831478, 1777934, 1676480, 1817541, 1653958, 1853507,\n",
       "       1659497, 1697236, 1700697, 1739332, 1828149, 1804233, 1698686,\n",
       "       1830959, 1694014, 1826130, 1771014, 1779345, 1729440, 1812504,\n",
       "       1816633, 1746407, 1802411, 1832598, 1778015, 1764231, 1777600,\n",
       "       1788152, 1875284, 1743951, 1833116, 1782662, 1801560, 1828692,\n",
       "       1706024])"
      ]
     },
     "execution_count": 55,
     "metadata": {},
     "output_type": "execute_result"
    }
   ],
   "source": [
    "#Creo el vector de cosotos y como lo ordenamos antes la fila uno de la matriz conincidira con el cosoto del producto uno, y asi sucesivmente\n",
    "vector_costos = np.array(costos_producion_df[\"Costo de producción\"])\n",
    "vector_costos"
   ]
  },
  {
   "cell_type": "code",
   "execution_count": 56,
   "metadata": {},
   "outputs": [
    {
     "name": "stdout",
     "output_type": "stream",
     "text": [
      "[272. 895. 722. 329. 142. 900. 191. 819. 314. 744. 492. 534. 863. 535.\n",
      " 982. 930. 563. 801. 876. 159. 760. 645. 619. 154. 684. 187. 293. 255.\n",
      " 853. 936. 549. 773. 603. 158. 226. 768. 859. 250. 825. 538. 401. 734.\n",
      " 322. 290. 764. 925. 951. 908. 919. 502.]\n"
     ]
    }
   ],
   "source": [
    "# la solucuon del sistema de A*x=b en donde A es la matriz que hicimos y b el vector de costos, da como resultado que x es lo que cuesta cada tipo de material\n",
    "solucion = np.linalg.solve(matriz_A, vector_costos)\n",
    "print(solucion)"
   ]
  },
  {
   "cell_type": "markdown",
   "metadata": {},
   "source": [
    "### Paso E"
   ]
  },
  {
   "cell_type": "code",
   "execution_count": 7,
   "metadata": {},
   "outputs": [],
   "source": [
    "recursos_new_df = pd.read_csv(\"db/Recursos_new.csv\")"
   ]
  },
  {
   "cell_type": "code",
   "execution_count": 67,
   "metadata": {},
   "outputs": [
    {
     "data": {
      "text/plain": [
       "array([[0, 0, 0, ..., 0, 0, 0],\n",
       "       [0, 0, 0, ..., 0, 0, 0],\n",
       "       [0, 0, 0, ..., 0, 0, 0],\n",
       "       ...,\n",
       "       [0, 0, 0, ..., 0, 0, 0],\n",
       "       [0, 0, 0, ..., 0, 0, 0],\n",
       "       [0, 0, 0, ..., 0, 0, 0]])"
      ]
     },
     "execution_count": 67,
     "metadata": {},
     "output_type": "execute_result"
    }
   ],
   "source": [
    "i_new = np.sort(np.array(recursos_new_df[\"Producto\"].unique()))\n",
    "j_new = np.sort(np.array(recursos_new_df[\"Tipo de recurso\"].unique()))\n",
    "\n",
    "matriz_B = np.zeros((len(i_new), len(j_new)), dtype=\"int\")"
   ]
  },
  {
   "cell_type": "code",
   "execution_count": 73,
   "metadata": {},
   "outputs": [],
   "source": [
    "#Ordenamos para que al hacer el bucle la fila del dataframe calce con la i del la matriz_B\n",
    "recursos_new_df = recursos_new_df.sort_values(by=\"Producto\")"
   ]
  },
  {
   "cell_type": "code",
   "execution_count": 75,
   "metadata": {},
   "outputs": [
    {
     "data": {
      "text/plain": [
       "array([[58, 42, 99, ..., 58, 24, 19],\n",
       "       [22,  2,  1, ...,  6, 65, 77],\n",
       "       [49, 64, 89, ...,  4, 88, 13],\n",
       "       ...,\n",
       "       [69, 79, 33, ..., 99, 26, 89],\n",
       "       [91, 66, 62, ..., 40, 95, 78],\n",
       "       [75, 11, 62, ..., 45, 87, 93]])"
      ]
     },
     "execution_count": 75,
     "metadata": {},
     "output_type": "execute_result"
    }
   ],
   "source": [
    "for _, fila in recursos_new_df.iterrows():\n",
    "    p = fila[\"Producto\"]\n",
    "    c = fila[\"Tipo de recurso\"]\n",
    "    x = np.where(i_new == p)\n",
    "    y = np.where(j_new == c)\n",
    "    matriz_B[x, y] = fila[\"Cantidad\"]\n",
    "\n",
    "matriz_B"
   ]
  },
  {
   "cell_type": "markdown",
   "metadata": {},
   "source": [
    "### Paso F"
   ]
  },
  {
   "cell_type": "code",
   "execution_count": 76,
   "metadata": {},
   "outputs": [],
   "source": [
    "resultado = matriz_B @ solucion"
   ]
  },
  {
   "cell_type": "code",
   "execution_count": 77,
   "metadata": {},
   "outputs": [
    {
     "data": {
      "text/plain": [
       "array([1307969., 1369888., 1370090., 1452950., 1438681., 1531656.,\n",
       "       1557838., 1552567., 1700447., 1413942., 1401654., 1544681.,\n",
       "       1458089., 1367960., 1320189., 1705280., 1671250., 1526545.,\n",
       "       1643002., 1379702., 1222902., 1307655., 1543348., 1291802.,\n",
       "       1295451., 1579620., 1528197., 1547984., 1580750., 1409813.,\n",
       "       1593583., 1341882., 1328397., 1568469., 1589261., 1511813.,\n",
       "       1313978., 1582668., 1598587., 1670011., 1450969., 1429081.,\n",
       "       1555316., 1617432., 1643200., 1324313., 1277901., 1495095.,\n",
       "       1493810., 1438160.])"
      ]
     },
     "execution_count": 77,
     "metadata": {},
     "output_type": "execute_result"
    }
   ],
   "source": [
    "resultado"
   ]
  },
  {
   "cell_type": "markdown",
   "metadata": {},
   "source": [
    "### Pregunta G\n",
    "\n",
    "Si se tuvieran 40 productos antiguos, la matriz sería de 40x50, luego  el sistema asociado a esa matriz seria uno de 40 ecuaciones y 50 incógnitas. Esto también se puede entender como un transformacion lineal de R50 -> R40, y por Teorema núcleo imagen 50 = Dim(Null) + Dim(Im), la dimension de la imagen como máximo es 40 por lo que, el null siempre será mayor a 0 significando que  no existe solucion única y no se podría obtener todos los precios de cada tipo de recurso pues alguno quedarian independientes."
   ]
  },
  {
   "cell_type": "markdown",
   "metadata": {},
   "source": [
    "### Pregunta H"
   ]
  },
  {
   "cell_type": "markdown",
   "metadata": {},
   "source": [
    "No sería necesario pues con los 50 ya se puede tener la solucion única, debido a que según el Teorema del núcleo imagen el Null es 0 y se pueden obtener todos los precios.  Adicionalmente en el caso de tener más productos puede darse el caso que un producto sea muy antiguo, lo que puede hacer que un producto tenga diferentes precios en los **Tipo de recurso* ;  ejemplo un queso1 que la leche costaba $500 y un queso2 que costaba $700, lo que provocaría que el sistema no tuviera solucion. Finalmente obtener una mayor cantidad de información de otro momento, podría servir en otro contexto donde se requirirera una comparativa temporal entre las variables, pero incluso en este hipotético si estuvieran en el mismo archivo deberían tener una etiqueta con su tiempo respectivo."
   ]
  }
 ],
 "metadata": {
  "kernelspec": {
   "display_name": "Python 3",
   "language": "python",
   "name": "python3"
  },
  "language_info": {
   "codemirror_mode": {
    "name": "ipython",
    "version": 3
   },
   "file_extension": ".py",
   "mimetype": "text/x-python",
   "name": "python",
   "nbconvert_exporter": "python",
   "pygments_lexer": "ipython3",
   "version": "3.10.12"
  }
 },
 "nbformat": 4,
 "nbformat_minor": 2
}
