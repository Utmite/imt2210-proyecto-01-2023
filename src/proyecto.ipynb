{
 "cells": [
  {
   "cell_type": "code",
   "execution_count": 1,
   "metadata": {},
   "outputs": [],
   "source": [
    "from typing import Dict\n",
    "from clases import Vec\n",
    "from archivos import costos, pelis, ratings, recursos, recursos_new\n",
    "from pprint import pprint\n",
    "\n",
    "dominio = []\n",
    "users = {}\n",
    "movies = {}\n",
    "\n",
    "\n",
    "for _, movie_id, rating in ratings[1:]:\n",
    "    dominio.append(movie_id)\n",
    "\n",
    "usuarios = set(map(lambda x: x[0], ratings[1:]))\n",
    "for user_id in usuarios:\n",
    "\n",
    "    usurio_rating = list(filter(lambda x: x[0] == user_id, ratings[1:]))\n",
    "\n",
    "    movie_id2rating = dict(map(lambda x: (x[1], x[2]), usurio_rating))\n",
    "    vector_gusto = Vec(dominio=dominio, coordenadas=movie_id2rating)\n",
    "\n",
    "    users[user_id] = vector_gusto\n",
    "\n",
    "peliculas = set(map(lambda x: x[1], ratings[1:]))\n",
    "for movie_id in peliculas:\n",
    "    movie_id_rating = list(filter(lambda x: x[1] == movie_id, ratings[1:]))\n",
    "    usur_id2rating = dict(map(lambda x: (x[0], x[2]), movie_id_rating))\n",
    "\n",
    "    vector = Vec(dominio=usuarios, coordenadas=usur_id2rating)\n",
    "    movies[movie_id] = vector\n",
    "\n",
    "\n"
   ]
  },
  {
   "cell_type": "code",
   "execution_count": 18,
   "metadata": {},
   "outputs": [],
   "source": [
    "def sim(v: Vec, u: Vec):\n",
    "    return (v.dot(u)) / (\n",
    "        ( ((u.dot(u))**1/2)*((v.dot(v))**1/2 ) )\n",
    "    )\n",
    "def vecinos(users: dict, user_id: int, k: int):\n",
    "    _users = users.copy()\n",
    "\n",
    "    del _users[user_id]\n",
    "\n",
    "    w = {user: sim(users[user_id], user_data) for user, user_data in _users.items()}\n",
    "\n",
    "    w = [(user, sim(users.get(user_id), user_data)) for user, user_data in _users.items()]\n",
    "    w = sorted(w, key=lambda x: x[1], reverse=True)\n",
    "\n",
    "    return w[:k]"
   ]
  },
  {
   "cell_type": "code",
   "execution_count": 28,
   "metadata": {},
   "outputs": [],
   "source": [
    "resultado_k = vecinos(users, 926, 10)"
   ]
  },
  {
   "cell_type": "code",
   "execution_count": 29,
   "metadata": {},
   "outputs": [
    {
     "name": "stdout",
     "output_type": "stream",
     "text": [
      "[(685, 0.009716599190283401),\n",
      " (740, 0.009709401709401709),\n",
      " (809, 0.009595526324150859),\n",
      " (105, 0.009482812402520432),\n",
      " (547, 0.009272697951943234),\n",
      " (482, 0.009141185611773846),\n",
      " (107, 0.00899165061014772),\n",
      " (866, 0.008649984553599012),\n",
      " (446, 0.008624008624008623),\n",
      " (431, 0.00848639146511487)]\n"
     ]
    }
   ],
   "source": [
    "from pprint import pprint\n",
    "pprint(resultado_k)\n"
   ]
  },
  {
   "cell_type": "code",
   "execution_count": 50,
   "metadata": {},
   "outputs": [],
   "source": [
    "def recomendacion(user_id):\n",
    "    x = vecinos(users, user_id, 30)\n",
    "\n",
    "    peliculas_usuario = list(filter(lambda x: x[0] == user_id, ratings[1:]))\n",
    "    peliculas_usuario = list(map(lambda x: x[1], peliculas_usuario))\n",
    "\n",
    "    pelicula_a_recomendar = []\n",
    "    for user_id_vecino, similitud in x:\n",
    "        peliculas_vecino = list(filter(lambda x: x[0] == user_id_vecino, ratings[1:]))\n",
    "\n",
    "        for _, movie_id, *rest in peliculas_vecino:\n",
    "            if len(pelicula_a_recomendar) >= 13:\n",
    "                break\n",
    "            if movie_id not in peliculas_usuario:\n",
    "                pelicula_a_recomendar.append(movie_id)\n",
    "\n",
    "    return pelicula_a_recomendar\n",
    "\n",
    "\n"
   ]
  },
  {
   "cell_type": "code",
   "execution_count": 51,
   "metadata": {},
   "outputs": [
    {
     "name": "stdout",
     "output_type": "stream",
     "text": [
      "[245, 258, 262, 294, 321]\n"
     ]
    }
   ],
   "source": [
    "pprint(recomendacion(2))"
   ]
  }
 ],
 "metadata": {
  "kernelspec": {
   "display_name": "Python 3",
   "language": "python",
   "name": "python3"
  },
  "language_info": {
   "codemirror_mode": {
    "name": "ipython",
    "version": 3
   },
   "file_extension": ".py",
   "mimetype": "text/x-python",
   "name": "python",
   "nbconvert_exporter": "python",
   "pygments_lexer": "ipython3",
   "version": "3.10.12"
  }
 },
 "nbformat": 4,
 "nbformat_minor": 2
}
