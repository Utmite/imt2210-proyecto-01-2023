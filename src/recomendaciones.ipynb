{
 "cells": [
  {
   "cell_type": "code",
   "execution_count": 1,
   "metadata": {},
   "outputs": [],
   "source": [
    "from os import path\n",
    "\n",
    "def cn(cadena):\n",
    "    try:\n",
    "        valor = float(cadena)  \n",
    "        if valor.is_integer():\n",
    "            return int(valor)  \n",
    "        else:\n",
    "            return valor  \n",
    "    except ValueError:\n",
    "        return cadena \n",
    "x = \"db/Costos_producción.csv\"\n",
    "\n",
    "with open(x) as archivo:\n",
    "    costos = archivo.readlines()\n",
    "    costos = list(map(lambda x: x.strip().split(\",\"), costos))\n",
    "    costos = list(map(lambda x: [cn(x[0]), cn(x[1]), cn(x[2])], costos))\n",
    "x = \"db/movies.csv\"\n",
    "\n",
    "with open(x) as archivo:\n",
    "    pelis = archivo.readlines()\n",
    "    pelis = list(map(lambda x: x.strip().split(\",\"), pelis))\n",
    "    pelis = list(map(lambda lista: list(map(cn, lista)), pelis))\n",
    "x = \"db/ratings.csv\"\n",
    "\n",
    "with open(x) as archivo:\n",
    "    ratings = archivo.readlines()\n",
    "    ratings = list(map(lambda x: x.strip().split(\",\"), ratings))\n",
    "    ratings = list(map(lambda lista: list(map(cn, lista)), ratings))\n",
    "x = \"db/Recursos_new.csv\"\n",
    "with open(x) as archivo:\n",
    "    recursos_new = archivo.readlines()\n",
    "    recursos_new = list(map(lambda x: x.strip().split(\",\"), recursos_new))\n",
    "    recursos_new = list(map(lambda lista: list(map(cn, lista)), recursos_new))\n",
    "x = \"db/Recursos.csv\"\n",
    "\n",
    "with open(x) as archivo:\n",
    "    recursos = archivo.readlines()\n",
    "    recursos = list(map(lambda x: x.strip().split(\",\"), recursos))\n",
    "    recursos = list(map(lambda lista: list(map(cn, lista)), recursos))\n"
   ]
  },
  {
   "cell_type": "code",
   "execution_count": 2,
   "metadata": {},
   "outputs": [],
   "source": [
    "class Vec:\n",
    "    def __init__(self, dominio: list, coordenadas: dict) -> None:\n",
    "        self.D = dominio\n",
    "\n",
    "        if any(key not in self.D for key in coordenadas.keys()):\n",
    "            raise ValueError(\"Hay ejes en cords que no estan en el domineo\")\n",
    "\n",
    "        self.f = coordenadas\n",
    "\n",
    "    def __borrar_ceros(self):\n",
    "        for k, v in deepcopy(self.f).items():\n",
    "            if v == 0:\n",
    "                del self.f[k]\n",
    "\n",
    "    def getitem(self, k):\n",
    "        if k not in self.D:\n",
    "            raise ValueError(f\"El eje {k} no existe en el domineo: {self.D}\")\n",
    "        return self.f.get(k, 0)\n",
    "\n",
    "    def setitem(self, k, v):\n",
    "        if k not in self.D:\n",
    "            raise ValueError(f\"El eje {k} no existe en el domineo: {self.D}\")\n",
    "\n",
    "        self.__borrar_ceros()\n",
    "\n",
    "        self.f[k] = v\n",
    "\n",
    "    def equal(self, u):\n",
    "        return self.D == u.D and self.f == u.f\n",
    "\n",
    "    def add(self, u):\n",
    "        if self.D != u.D:\n",
    "            raise ValueError(\"No tienen el mismo domineo\")\n",
    "        salida = Vec(deepcopy(self.D), deepcopy(self.f))\n",
    "\n",
    "        for i in self.D:\n",
    "            salida.setitem(i, self.getitem(i) + u.getitem(i))\n",
    "\n",
    "        salida.__borrar_ceros()\n",
    "\n",
    "        return salida\n",
    "\n",
    "    def dot(self, u):\n",
    "        if self.D != u.D:\n",
    "            raise ValueError(\"No tienen el mismo domineo\")\n",
    "        r = 0\n",
    "\n",
    "        union = set(self.f.keys()).union(u.f.keys())\n",
    "\n",
    "        for i in union:\n",
    "            r += self.getitem(i) * u.getitem(i)\n",
    "        return r\n",
    "\n",
    "    def scalar_mul(self, alpha):\n",
    "        salida = Vec(deepcopy(self.D), deepcopy(self.f))\n",
    "        for i in self.D:\n",
    "            salida.setitem(i, salida.getitem(i) * alpha)\n",
    "\n",
    "        salida.__borrar_ceros()\n",
    "\n",
    "        return salida\n",
    "\n",
    "    def neg(self):\n",
    "        salida = Vec(deepcopy(self.D), deepcopy(self.f))\n",
    "        for i in self.D:\n",
    "            salida.setitem(i, salida.getitem(i) * -1)\n",
    "        return salida\n",
    "\n",
    "    def __str__(self) -> str:\n",
    "        self.__borrar_ceros()\n",
    "        return f\"Vec({self.D},{self.f})\"\n",
    "\n",
    "    def __repr__(self) -> str:\n",
    "        return f\"Vec({len(self.D)},{self.f})\""
   ]
  },
  {
   "cell_type": "code",
   "execution_count": 3,
   "metadata": {},
   "outputs": [],
   "source": [
    "dominio = []\n",
    "users = {}\n",
    "movies = {}\n",
    "\n",
    "\n",
    "for _, movie_id, rating in ratings[1:]:\n",
    "    dominio.append(movie_id)\n",
    "\n",
    "usuarios = set(map(lambda x: x[0], ratings[1:]))\n",
    "for user_id in usuarios:\n",
    "\n",
    "    usurio_rating = list(filter(lambda x: x[0] == user_id, ratings[1:]))\n",
    "\n",
    "    movie_id2rating = dict(map(lambda x: (x[1], x[2]), usurio_rating))\n",
    "    vector_gusto = Vec(dominio=dominio, coordenadas=movie_id2rating)\n",
    "\n",
    "    users[user_id] = vector_gusto\n",
    "\n",
    "peliculas = set(map(lambda x: x[1], ratings[1:]))\n",
    "for movie_id in peliculas:\n",
    "    movie_id_rating = list(filter(lambda x: x[1] == movie_id, ratings[1:]))\n",
    "    usur_id2rating = dict(map(lambda x: (x[0], x[2]), movie_id_rating))\n",
    "\n",
    "    vector = Vec(dominio=usuarios, coordenadas=usur_id2rating)\n",
    "    movies[movie_id] = vector"
   ]
  },
  {
   "cell_type": "code",
   "execution_count": 4,
   "metadata": {},
   "outputs": [],
   "source": [
    "def sim(v: Vec, u: Vec):\n",
    "    return (v.dot(u)) / (\n",
    "        ( ((u.dot(u))**1/2)*((v.dot(v))**1/2 ) )\n",
    "    )\n",
    "def vecinos(users: dict, user_id: int, k: int):\n",
    "    _users = users.copy()\n",
    "\n",
    "    del _users[user_id]\n",
    "\n",
    "    w = {user: sim(users[user_id], user_data) for user, user_data in _users.items()}\n",
    "\n",
    "    w = [(user, sim(users.get(user_id), user_data)) for user, user_data in _users.items()]\n",
    "    w = sorted(w, key=lambda x: x[1], reverse=True)\n",
    "\n",
    "    return w[:k]"
   ]
  },
  {
   "cell_type": "code",
   "execution_count": 5,
   "metadata": {},
   "outputs": [
    {
     "data": {
      "text/plain": [
       "[(685, 0.009716599190283401),\n",
       " (740, 0.009709401709401709),\n",
       " (809, 0.009595526324150859),\n",
       " (105, 0.009482812402520432),\n",
       " (547, 0.009272697951943234),\n",
       " (482, 0.009141185611773846),\n",
       " (107, 0.00899165061014772),\n",
       " (866, 0.008649984553599012),\n",
       " (446, 0.008624008624008623),\n",
       " (431, 0.00848639146511487)]"
      ]
     },
     "execution_count": 5,
     "metadata": {},
     "output_type": "execute_result"
    }
   ],
   "source": [
    "resultado_k = vecinos(users, 926, 30)\n",
    "resultado_k"
   ]
  },
  {
   "cell_type": "code",
   "execution_count": 6,
   "metadata": {},
   "outputs": [],
   "source": [
    "def recomendacion(user_id):\n",
    "    x = vecinos(users, user_id, 30)\n",
    "\n",
    "    peliculas_usuario = list(filter(lambda x: x[0] == user_id, ratings[1:]))\n",
    "    peliculas_usuario = list(map(lambda x: x[1], peliculas_usuario))\n",
    "\n",
    "    pelicula_a_recomendar = []\n",
    "    for user_id_vecino, similitud in x:\n",
    "        peliculas_vecino = list(filter(lambda x: x[0] == user_id_vecino, ratings[1:]))\n",
    "\n",
    "        for _, movie_id, *rest in peliculas_vecino:\n",
    "            if len(pelicula_a_recomendar) >= 13:\n",
    "                break\n",
    "            if movie_id not in peliculas_usuario:\n",
    "                pelicula_a_recomendar.append(movie_id)\n",
    "\n",
    "    return pelicula_a_recomendar\n",
    "\n",
    "\n"
   ]
  },
  {
   "cell_type": "code",
   "execution_count": 7,
   "metadata": {},
   "outputs": [
    {
     "data": {
      "text/plain": [
       "[245, 258, 262, 294, 321, 322, 325, 340, 1, 124, 326, 328, 333]"
      ]
     },
     "execution_count": 7,
     "metadata": {},
     "output_type": "execute_result"
    }
   ],
   "source": [
    "recomendados = recomendacion(2)\n",
    "recomendados"
   ]
  },
  {
   "cell_type": "markdown",
   "metadata": {},
   "source": [
    "d) Se seleccionaron las recomendaciones según los 30 vecinos más cercanos, luego dentro de las peliculas no vistas por el usuario \n",
    "a consultar, es que se entregan en una lista las 13 peliculas en orden de búsqueda de prioridad por vecino. Se seleccionan los primeros 30 vecinos\n",
    "en caso de que si hubieran demasiadas similaritudes de peliculas entre los primeros vecinos, exitiera la posibilidad de hacer una recomendación con \n",
    "aquellos que están más lejanos pero que aún pueden aportar películas no vistas. Se entregan 13 películas como opción al usuario para que pueda tener un \n",
    "espacio de selección no tan acotado como un top 3 pero con un poco más de opciones que un top 10. Sin dejar una cantidad muy amplia que dificulte la selección.\n",
    "Por otro lado, es importante recalcar que se elige por orden las peliculas desde el vecino más cercano hasta que se acaben sus recomendaciones, \n",
    "ya que, permite tener las peliculas más cercanas en gustos al usuario. De esta forma hay posibilidades de que encuentre mejores produccciones que ver, \n",
    "teniendo en consideración que el promedio de los vecinos para recomendar podría no ser tan representativo como indicador.\n"
   ]
  },
  {
   "cell_type": "markdown",
   "metadata": {},
   "source": [
    "e)Los beneficios de utilizar la clase que se programó anteriormente es que posee distintos métodos que facilitan la aplicación \n",
    "de operaciones dentro del problema planteado. Además del hecho que permite manejar aquellos casos en que no se tiene un rating, asumiéndose como cero.\n",
    "Por ende detro del contexto, existen múltiples veces en que el usuario podría tener elementos con valor cero dentro del diccionario asignado. \n",
    "Es en ello que se clasifica como sparce data por la cantidad de datos con valor cero que existen. El manejo dentro de la clase no permite la existencia de operaciones,\n",
    "fuera del dominio, haciendo que el modelo de recomendación funcione correctamente, arrojando error en caso de que sea necesario."
   ]
  }
 ],
 "metadata": {
  "kernelspec": {
   "display_name": "Python 3",
   "language": "python",
   "name": "python3"
  },
  "language_info": {
   "codemirror_mode": {
    "name": "ipython",
    "version": 3
   },
   "file_extension": ".py",
   "mimetype": "text/x-python",
   "name": "python",
   "nbconvert_exporter": "python",
   "pygments_lexer": "ipython3",
   "version": "3.10.12"
  }
 },
 "nbformat": 4,
 "nbformat_minor": 2
}
