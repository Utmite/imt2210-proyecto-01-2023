{
 "cells": [
  {
   "cell_type": "code",
   "execution_count": 10,
   "metadata": {},
   "outputs": [],
   "source": [
    "\n",
    "#Con lo siguiente cargo los datos y los que son un numero los paso de str a numero\n",
    "\n",
    "def cn(cadena):\n",
    "    try:\n",
    "        valor = float(cadena)  \n",
    "        if valor.is_integer():\n",
    "            return int(valor)  \n",
    "        else:\n",
    "            return valor  \n",
    "    except ValueError:\n",
    "        return cadena \n",
    "# Path para movies.cvs\n",
    "x = \"db/movies.csv\"\n",
    "with open(x) as archivo:\n",
    "    pelis = archivo.readlines()\n",
    "    pelis = list(map(lambda x: x.strip().split(\",\"), pelis))\n",
    "    pelis = list(map(lambda lista: list(map(cn, lista)), pelis))\n",
    "\n",
    "# Path para ratings.cvs\n",
    "x = \"db/ratings.csv\"\n",
    "with open(x) as archivo:\n",
    "    ratings = archivo.readlines()\n",
    "    ratings = list(map(lambda x: x.strip().split(\",\"), ratings))\n",
    "    ratings = list(map(lambda lista: list(map(cn, lista)), ratings))\n",
    "\n"
   ]
  },
  {
   "cell_type": "code",
   "execution_count": 11,
   "metadata": {},
   "outputs": [],
   "source": [
    "from copy import deepcopy # Se usa para copiar la instancia y no modificar el original\n",
    "### Traigo la clase vector para poder usarla en el ejericio\n",
    "class Vec:\n",
    "    def __init__(self, dominio: list, coordenadas: dict) -> None:\n",
    "        self.D = dominio\n",
    "\n",
    "        if any(key not in self.D for key in coordenadas.keys()):\n",
    "            raise ValueError(\"Hay ejes en cords que no estan en el domineo\")\n",
    "\n",
    "        self.f = coordenadas\n",
    "\n",
    "    def __borrar_ceros(self):\n",
    "        for k, v in deepcopy(self.f).items():\n",
    "            if v == 0:\n",
    "                del self.f[k]\n",
    "\n",
    "    def getitem(self, k):\n",
    "        if k not in self.D:\n",
    "            raise ValueError(f\"El eje {k} no existe en el domineo: {self.D}\")\n",
    "        return self.f.get(k, 0)\n",
    "\n",
    "    def setitem(self, k, v):\n",
    "        if k not in self.D:\n",
    "            raise ValueError(f\"El eje {k} no existe en el domineo: {self.D}\")\n",
    "\n",
    "        self.__borrar_ceros()\n",
    "\n",
    "        self.f[k] = v\n",
    "\n",
    "    def equal(self, u):\n",
    "        return self.D == u.D and self.f == u.f\n",
    "\n",
    "    def add(self, u):\n",
    "        if self.D != u.D:\n",
    "            raise ValueError(\"No tienen el mismo domineo\")\n",
    "        salida = Vec(deepcopy(self.D), deepcopy(self.f))\n",
    "\n",
    "        for i in self.D:\n",
    "            salida.setitem(i, self.getitem(i) + u.getitem(i))\n",
    "\n",
    "        salida.__borrar_ceros()\n",
    "\n",
    "        return salida\n",
    "\n",
    "    def dot(self, u):\n",
    "        if self.D != u.D:\n",
    "            raise ValueError(\"No tienen el mismo domineo\")\n",
    "        r = 0\n",
    "\n",
    "        union = set(self.f.keys()).union(u.f.keys())\n",
    "\n",
    "        for i in union:\n",
    "            r += self.getitem(i) * u.getitem(i)\n",
    "        return r\n",
    "\n",
    "    def scalar_mul(self, alpha):\n",
    "        salida = Vec(deepcopy(self.D), deepcopy(self.f))\n",
    "        for i in self.D:\n",
    "            salida.setitem(i, salida.getitem(i) * alpha)\n",
    "\n",
    "        salida.__borrar_ceros()\n",
    "\n",
    "        return salida\n",
    "\n",
    "    def neg(self):\n",
    "        salida = Vec(deepcopy(self.D), deepcopy(self.f))\n",
    "        for i in self.D:\n",
    "            salida.setitem(i, salida.getitem(i) * -1)\n",
    "        return salida\n",
    "\n",
    "    def __str__(self) -> str:\n",
    "        self.__borrar_ceros()\n",
    "        return f\"Vec({self.D},{self.f})\"\n",
    "\n",
    "    def __repr__(self) -> str:\n",
    "        return f\"Vec({len(self.D)},{self.f})\""
   ]
  },
  {
   "cell_type": "markdown",
   "metadata": {},
   "source": [
    "### Parte A y parte B"
   ]
  },
  {
   "cell_type": "code",
   "execution_count": 12,
   "metadata": {},
   "outputs": [],
   "source": [
    "dominio = []\n",
    "users = {} \n",
    "movies = {}\n",
    "\n",
    "\n",
    "for _, movie_id, rating in ratings[1:]:\n",
    "    dominio.append(movie_id)\n",
    "\n",
    "# Crear el vector de gustos para cada usuario\n",
    "usuarios = set(map(lambda x: x[0], ratings[1:]))\n",
    "for user_id in usuarios:\n",
    "\n",
    "    usurio_rating = list(filter(lambda x: x[0] == user_id, ratings[1:]))\n",
    "\n",
    "    movie_id2rating = dict(map(lambda x: (x[1], x[2]), usurio_rating))\n",
    "    vector_gusto = Vec(dominio=dominio, coordenadas=movie_id2rating)\n",
    "\n",
    "    users[user_id] = vector_gusto\n",
    "\n",
    "# Crear el vector de ratings por cada pelicula\n",
    "peliculas = set(map(lambda x: x[1], ratings[1:]))\n",
    "for movie_id in peliculas:\n",
    "    movie_id_rating = list(filter(lambda x: x[1] == movie_id, ratings[1:]))\n",
    "    usur_id2rating = dict(map(lambda x: (x[0], x[2]), movie_id_rating))\n",
    "\n",
    "    vector = Vec(dominio=usuarios, coordenadas=usur_id2rating)\n",
    "    movies[movie_id] = vector"
   ]
  },
  {
   "cell_type": "markdown",
   "metadata": {},
   "source": [
    "### Parte C"
   ]
  },
  {
   "cell_type": "code",
   "execution_count": 14,
   "metadata": {},
   "outputs": [],
   "source": [
    "\n",
    "# funcion para calcular la similaridad de coseno\n",
    "def sim(v: Vec, u: Vec):\n",
    "    return (v.dot(u)) / (\n",
    "        ( ((u.dot(u))**1/2)*((v.dot(v))**1/2 ) )\n",
    "    )\n",
    "\n",
    "# Definicion de la funcion vecinos\n",
    "def vecinos(users: dict, user_id: int, k: int):\n",
    "    _users = users.copy()\n",
    "\n",
    "    del _users[user_id]\n",
    "\n",
    "    w = {user: sim(users[user_id], user_data) for user, user_data in _users.items()}\n",
    "\n",
    "    w = [(user, sim(users.get(user_id), user_data)) for user, user_data in _users.items()]\n",
    "    w = sorted(w, key=lambda x: x[1], reverse=True)\n",
    "\n",
    "    return w[:k]"
   ]
  },
  {
   "cell_type": "code",
   "execution_count": 15,
   "metadata": {},
   "outputs": [
    {
     "data": {
      "text/plain": [
       "[(685, 0.009716599190283401),\n",
       " (740, 0.009709401709401709),\n",
       " (809, 0.009595526324150859),\n",
       " (105, 0.009482812402520432),\n",
       " (547, 0.009272697951943234),\n",
       " (482, 0.009141185611773846),\n",
       " (107, 0.00899165061014772),\n",
       " (866, 0.008649984553599012),\n",
       " (446, 0.008624008624008623),\n",
       " (431, 0.00848639146511487),\n",
       " (626, 0.008165445665445666),\n",
       " (364, 0.008038808038808038),\n",
       " (873, 0.00802900802900803),\n",
       " (146, 0.00799720097965712),\n",
       " (827, 0.007906678916450903),\n",
       " (171, 0.007879769961554348),\n",
       " (818, 0.00785724996251312),\n",
       " (335, 0.007789678675754625),\n",
       " (111, 0.007785973539398197),\n",
       " (129, 0.007678595913890031),\n",
       " (656, 0.007566204287515763),\n",
       " (155, 0.00749326776724037),\n",
       " (687, 0.007434944237918215),\n",
       " (149, 0.007343639112592181),\n",
       " (824, 0.007309941520467836),\n",
       " (820, 0.007293447293447293),\n",
       " (220, 0.007193732193732194),\n",
       " (191, 0.007094575722026703),\n",
       " (920, 0.0070631528964862295),\n",
       " (47, 0.007014441497200118)]"
      ]
     },
     "execution_count": 15,
     "metadata": {},
     "output_type": "execute_result"
    }
   ],
   "source": [
    "resultado_k = vecinos(users, 926, 30) #Verificar si funciona\n",
    "resultado_k"
   ]
  },
  {
   "cell_type": "markdown",
   "metadata": {},
   "source": [
    "### Parte D"
   ]
  },
  {
   "cell_type": "code",
   "execution_count": 16,
   "metadata": {},
   "outputs": [],
   "source": [
    "def recomendacion(user_id):\n",
    "    x = vecinos(users, user_id, 30)\n",
    "\n",
    "    peliculas_usuario = list(filter(lambda x: x[0] == user_id, ratings[1:]))\n",
    "    peliculas_usuario = list(map(lambda x: x[1], peliculas_usuario))\n",
    "\n",
    "    pelicula_a_recomendar = []\n",
    "    for user_id_vecino, similitud in x:\n",
    "        peliculas_vecino = list(filter(lambda x: x[0] == user_id_vecino, ratings[1:]))\n",
    "\n",
    "        for _, movie_id, *rest in peliculas_vecino:\n",
    "            if len(pelicula_a_recomendar) >= 13:\n",
    "                break\n",
    "            if movie_id not in peliculas_usuario:\n",
    "                pelicula_a_recomendar.append(movie_id)\n",
    "\n",
    "    return pelicula_a_recomendar\n",
    "\n",
    "\n"
   ]
  },
  {
   "cell_type": "code",
   "execution_count": 17,
   "metadata": {},
   "outputs": [
    {
     "data": {
      "text/plain": [
       "[245, 258, 262, 294, 321, 322, 325, 340, 1, 124, 326, 328, 333]"
      ]
     },
     "execution_count": 17,
     "metadata": {},
     "output_type": "execute_result"
    }
   ],
   "source": [
    "recomendados = recomendacion(2)\n",
    "recomendados"
   ]
  },
  {
   "cell_type": "markdown",
   "metadata": {},
   "source": [
    "Se seleccionaron las recomendaciones según los 30 vecinos más cercanos, luego dentro de las peliculas no vistas por el usuario \n",
    "a consultar, es que se entregan en una lista las 13 peliculas en orden de búsqueda de prioridad por vecino. Se seleccionan los primeros 30 vecinos\n",
    "en caso de que si hubieran demasiadas similaritudes de peliculas entre los primeros vecinos, exitiera la posibilidad de hacer una recomendación con \n",
    "aquellos que están más lejanos pero que aún pueden aportar películas no vistas. Se entregan 13 películas como opción al usuario para que pueda tener un \n",
    "espacio de selección no tan acotado como un top 3 pero con un poco más de opciones que un top 10. Sin dejar una cantidad muy amplia que dificulte la selección.\n",
    "Por otro lado, es importante recalcar que se elige por orden las peliculas desde el vecino más cercano hasta que se acaben sus recomendaciones, \n",
    "ya que, permite tener las peliculas más cercanas en gustos al usuario. De esta forma hay posibilidades de que encuentre mejores produccciones que ver, \n",
    "teniendo en consideración que el promedio de los vecinos para recomendar podría no ser tan representativo como indicador.\n"
   ]
  },
  {
   "cell_type": "markdown",
   "metadata": {},
   "source": [
    "### Pregunta E\n",
    "Los beneficios de utilizar la clase que se programó anteriormente es que posee distintos métodos que facilitan la aplicación \n",
    "de operaciones dentro del problema planteado. Además del hecho que permite manejar aquellos casos en que no se tiene un rating, asumiéndose como cero.\n",
    "Por ende detro del contexto, existen múltiples veces en que el usuario podría tener elementos con valor cero dentro del diccionario asignado. \n",
    "Es en ello que se clasifica como sparce data por la cantidad de datos con valor cero que existen. El manejo dentro de la clase no permite la existencia de operaciones,\n",
    "fuera del dominio, haciendo que el modelo de recomendación funcione correctamente, arrojando error en caso de que sea necesario."
   ]
  }
 ],
 "metadata": {
  "kernelspec": {
   "display_name": "Python 3",
   "language": "python",
   "name": "python3"
  },
  "language_info": {
   "codemirror_mode": {
    "name": "ipython",
    "version": 3
   },
   "file_extension": ".py",
   "mimetype": "text/x-python",
   "name": "python",
   "nbconvert_exporter": "python",
   "pygments_lexer": "ipython3",
   "version": "3.10.12"
  }
 },
 "nbformat": 4,
 "nbformat_minor": 2
}
